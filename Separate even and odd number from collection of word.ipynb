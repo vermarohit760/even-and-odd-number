{
 "cells": [
  {
   "cell_type": "code",
   "execution_count": 1,
   "id": "e32291c6",
   "metadata": {},
   "outputs": [
    {
     "name": "stdout",
     "output_type": "stream",
     "text": [
      "number of even numbers:  4\n",
      "number of odd numbers:  5\n"
     ]
    }
   ],
   "source": [
    "x=(1,2,3,4,5,6,7,8,9)\n",
    "even_number=0\n",
    "odd_number=0\n",
    "for y in x:\n",
    "    if y%2==0:\n",
    "        even_number+=1\n",
    "    else:\n",
    "        odd_number+=1\n",
    "print('number of even numbers: ',even_number)\n",
    "print('number of odd numbers: ',odd_number)"
   ]
  },
  {
   "cell_type": "code",
   "execution_count": null,
   "id": "7fb8bf84",
   "metadata": {},
   "outputs": [],
   "source": []
  }
 ],
 "metadata": {
  "kernelspec": {
   "display_name": "Python 3 (ipykernel)",
   "language": "python",
   "name": "python3"
  },
  "language_info": {
   "codemirror_mode": {
    "name": "ipython",
    "version": 3
   },
   "file_extension": ".py",
   "mimetype": "text/x-python",
   "name": "python",
   "nbconvert_exporter": "python",
   "pygments_lexer": "ipython3",
   "version": "3.9.6"
  }
 },
 "nbformat": 4,
 "nbformat_minor": 5
}
